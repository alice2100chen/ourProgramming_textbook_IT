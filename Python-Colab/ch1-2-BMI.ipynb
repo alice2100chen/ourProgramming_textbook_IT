{
  "nbformat": 4,
  "nbformat_minor": 0,
  "metadata": {
    "colab": {
      "name": "ch1-2-BMI.ipynb",
      "provenance": []
    },
    "kernelspec": {
      "name": "python3",
      "display_name": "Python 3"
    },
    "language_info": {
      "name": "python"
    }
  },
  "cells": [
    {
      "cell_type": "code",
      "execution_count": 1,
      "metadata": {
        "colab": {
          "base_uri": "https://localhost:8080/"
        },
        "id": "ib4JX2OqtTQ3",
        "outputId": "05b4ff4c-c2c6-424b-bed8-e297284fdc32"
      },
      "outputs": [
        {
          "output_type": "stream",
          "name": "stdout",
          "text": [
            "請輸入體重(公斤):74\n",
            "請輸入身高(公分):172\n",
            "BMI值= 25.013520822065985\n"
          ]
        }
      ],
      "source": [
        "w = input('請輸入體重(公斤):')\n",
        "weight = int(w)\n",
        "h = input('請輸入身高(公分):')\n",
        "height = int(h) \n",
        "height = height / 100\n",
        "bmi = weight / (height * height)\n",
        "print('BMI值=', bmi)"
      ]
    },
    {
      "cell_type": "code",
      "source": [
        ""
      ],
      "metadata": {
        "id": "3c23ho8A0eWB"
      },
      "execution_count": null,
      "outputs": []
    },
    {
      "cell_type": "code",
      "source": [
        ""
      ],
      "metadata": {
        "id": "3iBE5S7O0fEX"
      },
      "execution_count": null,
      "outputs": []
    }
  ]
}