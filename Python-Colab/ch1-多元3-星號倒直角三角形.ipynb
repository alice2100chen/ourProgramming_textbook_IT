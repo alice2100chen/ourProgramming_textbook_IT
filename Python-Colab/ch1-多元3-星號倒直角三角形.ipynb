{
  "nbformat": 4,
  "nbformat_minor": 0,
  "metadata": {
    "colab": {
      "name": "ch1-多元3-星號倒直角三角形.ipynb",
      "provenance": []
    },
    "kernelspec": {
      "name": "python3",
      "display_name": "Python 3"
    },
    "language_info": {
      "name": "python"
    }
  },
  "cells": [
    {
      "cell_type": "code",
      "source": [
        "x = input()\n",
        "n = int(x)\n",
        "\n",
        "for i in range(1, n+1):\n",
        "  for j in range(i, n+1):\n",
        "    print('*',end='')\n",
        "  print()"
      ],
      "metadata": {
        "id": "0s70G9bQDYQL",
        "colab": {
          "base_uri": "https://localhost:8080/"
        },
        "outputId": "b02ffb07-3f30-410d-f845-7868a2d2cff6"
      },
      "execution_count": 1,
      "outputs": [
        {
          "output_type": "stream",
          "name": "stdout",
          "text": [
            "5\n",
            "*****\n",
            "****\n",
            "***\n",
            "**\n",
            "*\n"
          ]
        }
      ]
    }
  ]
}