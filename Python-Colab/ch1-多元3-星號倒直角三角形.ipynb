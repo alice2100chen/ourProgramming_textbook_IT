{
  "nbformat": 4,
  "nbformat_minor": 0,
  "metadata": {
    "colab": {
      "name": "ch1-多元3-星號倒直角三角形.ipynb",
      "provenance": []
    },
    "kernelspec": {
      "name": "python3",
      "display_name": "Python 3"
    },
    "language_info": {
      "name": "python"
    }
  },
  "cells": [
    {
      "cell_type": "code",
      "execution_count": 2,
      "metadata": {
        "id": "_u4XPdkSm-4_",
        "outputId": "7e2a4193-01d6-4869-90ea-23ca8b1cc0ad",
        "colab": {
          "base_uri": "https://localhost:8080/"
        }
      },
      "outputs": [
        {
          "output_type": "stream",
          "name": "stdout",
          "text": [
            "5\n",
            "*****\n",
            "****\n",
            "***\n",
            "**\n",
            "*\n"
          ]
        }
      ],
      "source": [
        "x = input()\n",
        "n = int(x)\n",
        "\n",
        "for i in range(0, n):\n",
        "  for j in range(1, n+1-i):\n",
        "    print('*',end='')\n",
        "  print()"
      ]
    },
    {
      "cell_type": "code",
      "source": [
        ""
      ],
      "metadata": {
        "id": "0s70G9bQDYQL"
      },
      "execution_count": null,
      "outputs": []
    },
    {
      "cell_type": "code",
      "source": [
        ""
      ],
      "metadata": {
        "id": "RMQSomGzDX9p"
      },
      "execution_count": null,
      "outputs": []
    }
  ]
}