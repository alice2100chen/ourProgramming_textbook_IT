{
  "nbformat": 4,
  "nbformat_minor": 0,
  "metadata": {
    "colab": {
      "name": "ch1-3-BMI 檢測.ipynb",
      "provenance": []
    },
    "kernelspec": {
      "name": "python3",
      "display_name": "Python 3"
    },
    "language_info": {
      "name": "python"
    }
  },
  "cells": [
    {
      "cell_type": "code",
      "execution_count": 1,
      "metadata": {
        "colab": {
          "base_uri": "https://localhost:8080/"
        },
        "id": "Mb0TCWDP4u5o",
        "outputId": "db4628d0-fa35-4fe4-8454-5d42e8c9d992"
      },
      "outputs": [
        {
          "output_type": "stream",
          "name": "stdout",
          "text": [
            "請輸入體重(公斤):64\n",
            "請輸入身高(公分):172\n",
            "BMI值= 21.63331530557058\n",
            "正常\n"
          ]
        }
      ],
      "source": [
        "w = input('請輸入體重(公斤):')\n",
        "weight = int(w)\n",
        "h = input('請輸入身高(公分):')\n",
        "height = int(h) \n",
        "height = height / 100\n",
        "bmi = weight / (height * height)\n",
        "print('BMI值=', bmi)\n",
        "\n",
        "if bmi < 18.5:\n",
        "  print('太輕了')\n",
        "elif bmi < 24:\n",
        "  print('正常')\n",
        "else:\n",
        "  print('太重了')\n"
      ]
    },
    {
      "cell_type": "code",
      "source": [
        ""
      ],
      "metadata": {
        "id": "pnolEa7dItvh"
      },
      "execution_count": null,
      "outputs": []
    },
    {
      "cell_type": "code",
      "source": [
        ""
      ],
      "metadata": {
        "id": "eHYx7ls6CpOO"
      },
      "execution_count": null,
      "outputs": []
    }
  ]
}