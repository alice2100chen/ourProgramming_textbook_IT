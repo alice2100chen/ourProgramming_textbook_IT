{
  "nbformat": 4,
  "nbformat_minor": 0,
  "metadata": {
    "colab": {
      "name": "ch3-學習單-清倉拍賣.ipynb",
      "provenance": [],
      "collapsed_sections": []
    },
    "kernelspec": {
      "name": "python3",
      "display_name": "Python 3"
    },
    "language_info": {
      "name": "python"
    }
  },
  "cells": [
    {
      "cell_type": "code",
      "execution_count": 1,
      "metadata": {
        "colab": {
          "base_uri": "https://localhost:8080/"
        },
        "id": "ht29hMFz5gEv",
        "outputId": "c411a1bd-d060-4350-9ade-45b86a7df1a1"
      },
      "outputs": [
        {
          "output_type": "stream",
          "name": "stdout",
          "text": [
            "麵包機\n",
            "找到: 麵包機\n",
            "售價: 1000\n"
          ]
        }
      ],
      "source": [
        "item = ['水壺','麵包機','行李箱','咖啡機']\n",
        "price = [100,1000,600,3000]\n",
        "name = input()\n",
        "for i in range(4):\n",
        "  if name == item[i]:\n",
        "    print('找到:',item[i])\n",
        "    print('售價:',price[i])"
      ]
    }
  ]
}