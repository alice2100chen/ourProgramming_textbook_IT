{
  "nbformat": 4,
  "nbformat_minor": 0,
  "metadata": {
    "colab": {
      "name": "ch3-1- 成績陣列實作.ipynb",
      "provenance": []
    },
    "kernelspec": {
      "name": "python3",
      "display_name": "Python 3"
    },
    "language_info": {
      "name": "python"
    }
  },
  "cells": [
    {
      "cell_type": "code",
      "execution_count": 1,
      "metadata": {
        "colab": {
          "base_uri": "https://localhost:8080/"
        },
        "id": "HWm4mEhPclMD",
        "outputId": "bd426f63-f898-4679-ca89-31607f6550a8"
      },
      "outputs": [
        {
          "output_type": "stream",
          "name": "stdout",
          "text": [
            "89.33333333333333\n"
          ]
        }
      ],
      "source": [
        "score = [90,86,92]\n",
        "sum = 0 \n",
        "for i in range(len(score)):\n",
        "  sum = sum + score[i]\n",
        "\n",
        "average = sum / len(score)\n",
        "print(average)"
      ]
    },
    {
      "cell_type": "code",
      "source": [
        ""
      ],
      "metadata": {
        "id": "Ch7VeXGqgcGS"
      },
      "execution_count": null,
      "outputs": []
    },
    {
      "cell_type": "code",
      "source": [
        ""
      ],
      "metadata": {
        "id": "y9h2FeYGmldW"
      },
      "execution_count": null,
      "outputs": []
    }
  ]
}