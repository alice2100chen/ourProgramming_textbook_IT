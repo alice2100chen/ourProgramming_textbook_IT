{
  "nbformat": 4,
  "nbformat_minor": 0,
  "metadata": {
    "colab": {
      "name": "ch3-2-二維成績陣列實作.ipynb",
      "provenance": []
    },
    "kernelspec": {
      "name": "python3",
      "display_name": "Python 3"
    },
    "language_info": {
      "name": "python"
    }
  },
  "cells": [
    {
      "cell_type": "code",
      "source": [
        "s = [[90,85,92,0],[95,91,96,0],[82,80,88,0],[91,90,85,0],[80,95,82,0]]\n",
        "for i in range(5):\n",
        "  for j in range(3):\n",
        "    s[i][3] = s[i][3] + s[i][j]\n",
        "  print(s[i][3])"
      ],
      "metadata": {
        "id": "Ch7VeXGqgcGS",
        "colab": {
          "base_uri": "https://localhost:8080/"
        },
        "outputId": "5e15fe5a-c124-424e-d25f-cf34a09b2f49"
      },
      "execution_count": 1,
      "outputs": [
        {
          "output_type": "stream",
          "name": "stdout",
          "text": [
            "267\n",
            "282\n",
            "250\n",
            "266\n",
            "257\n"
          ]
        }
      ]
    },
    {
      "cell_type": "code",
      "execution_count": 2,
      "metadata": {
        "colab": {
          "base_uri": "https://localhost:8080/"
        },
        "id": "HWm4mEhPclMD",
        "outputId": "6bc07582-73b8-4603-af61-7e2d05f25cf8"
      },
      "outputs": [
        {
          "output_type": "stream",
          "name": "stdout",
          "text": [
            "267\n",
            "282\n",
            "250\n",
            "266\n",
            "257\n"
          ]
        }
      ],
      "source": [
        "s = [[90,85,92,0],[95,91,96,0],[82,80,88,0],[91,90,85,0],[80,95,82,0]]\n",
        "for i in range(len(s)):\n",
        "  sum = 0\n",
        "  for j in range(len(s[0])-1):\n",
        "    sum = sum + s[i][j]\n",
        "  s[i][3] = sum\n",
        "\n",
        "for i in range(len(s)):\n",
        "  print(s[i][3])"
      ]
    }
  ]
}