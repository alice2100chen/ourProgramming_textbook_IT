{
  "nbformat": 4,
  "nbformat_minor": 0,
  "metadata": {
    "colab": {
      "name": "ch3-多元3-遞減氣泡排序.ipynb",
      "provenance": []
    },
    "kernelspec": {
      "name": "python3",
      "display_name": "Python 3"
    },
    "language_info": {
      "name": "python"
    }
  },
  "cells": [
    {
      "cell_type": "code",
      "execution_count": 1,
      "metadata": {
        "colab": {
          "base_uri": "https://localhost:8080/"
        },
        "id": "74qOE9Nx20M5",
        "outputId": "e7b519f6-2f3f-4735-92b6-2fc94f5ac17f"
      },
      "outputs": [
        {
          "output_type": "stream",
          "name": "stdout",
          "text": [
            "第 1 回合結果:342578\n",
            "第 2 回合結果:324578\n",
            "第 3 回合結果:234578\n",
            "第 4 回合結果:234578\n",
            "第 5 回合結果:234578\n"
          ]
        }
      ],
      "source": [
        "a = [3, 8, 4, 2, 5, 7]\n",
        "for i in range(1, 6):\n",
        "  for j in range(6-i):\n",
        "    if a[j] < a[j+1]:\n",
        "      tmp = a[j]\n",
        "      a[j] = a[j+1]\n",
        "      a[j+1] = tmp\n",
        "  print('第',i,'回合結果:', end='')\n",
        "  for k in range(6):\n",
        "    print(a[k], end='')\n",
        "  print()"
      ]
    }
  ]
}